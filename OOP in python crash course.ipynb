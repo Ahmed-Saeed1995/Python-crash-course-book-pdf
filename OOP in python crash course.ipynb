{
 "cells": [
  {
   "cell_type": "code",
   "execution_count": 1,
   "metadata": {},
   "outputs": [],
   "source": [
    "import restaurant"
   ]
  },
  {
   "cell_type": "code",
   "execution_count": 2,
   "metadata": {},
   "outputs": [
    {
     "name": "stdout",
     "output_type": "stream",
     "text": [
      "The restaurant name is: KFC\n",
      "The cuisine type is: Tradishon Engliah dish\n"
     ]
    }
   ],
   "source": [
    "KFC = restaurant.Restaurant(\"KFC\",\"Tradishon Engliah dish\")\n",
    "KFC.describe_restaurant()"
   ]
  },
  {
   "cell_type": "code",
   "execution_count": 9,
   "metadata": {},
   "outputs": [
    {
     "ename": "NameError",
     "evalue": "name 'Restaurant' is not defined",
     "output_type": "error",
     "traceback": [
      "\u001b[1;31m---------------------------------------------------------------------------\u001b[0m",
      "\u001b[1;31mNameError\u001b[0m                                 Traceback (most recent call last)",
      "\u001b[1;32m<ipython-input-9-0d93f74704ff>\u001b[0m in \u001b[0;36m<module>\u001b[1;34m\u001b[0m\n\u001b[1;32m----> 1\u001b[1;33m \u001b[1;32mclass\u001b[0m \u001b[0mIceCreamStand\u001b[0m\u001b[1;33m(\u001b[0m\u001b[0mRestaurant\u001b[0m\u001b[1;33m)\u001b[0m\u001b[1;33m:\u001b[0m\u001b[1;33m\u001b[0m\u001b[1;33m\u001b[0m\u001b[0m\n\u001b[0m\u001b[0;32m      2\u001b[0m \u001b[1;31m#     [\"chocolate\",\"vanilla\",\"Strowberry\"]\u001b[0m\u001b[1;33m\u001b[0m\u001b[1;33m\u001b[0m\u001b[1;33m\u001b[0m\u001b[0m\n\u001b[0;32m      3\u001b[0m \u001b[1;33m\u001b[0m\u001b[0m\n\u001b[0;32m      4\u001b[0m     \u001b[1;32mdef\u001b[0m \u001b[0m__init__\u001b[0m\u001b[1;33m(\u001b[0m\u001b[0mself\u001b[0m\u001b[1;33m,\u001b[0m\u001b[0mflavors\u001b[0m\u001b[1;33m)\u001b[0m\u001b[1;33m:\u001b[0m\u001b[1;33m\u001b[0m\u001b[1;33m\u001b[0m\u001b[0m\n\u001b[0;32m      5\u001b[0m         \u001b[0mself\u001b[0m\u001b[1;33m.\u001b[0m\u001b[0mflavors\u001b[0m \u001b[1;33m=\u001b[0m \u001b[0mflavors\u001b[0m \u001b[1;33m=\u001b[0m \u001b[1;33m[\u001b[0m\u001b[1;34m\"chocolate\"\u001b[0m\u001b[1;33m,\u001b[0m\u001b[1;34m\"vanilla\"\u001b[0m\u001b[1;33m,\u001b[0m\u001b[1;34m\"Strowberry\"\u001b[0m\u001b[1;33m]\u001b[0m\u001b[1;33m\u001b[0m\u001b[1;33m\u001b[0m\u001b[0m\n",
      "\u001b[1;31mNameError\u001b[0m: name 'Restaurant' is not defined"
     ]
    }
   ],
   "source": [
    "class IceCreamStand(Restaurant):\n",
    "#     [\"chocolate\",\"vanilla\",\"Strowberry\"]\n",
    "    \n",
    "    def __init__(self,flavors):\n",
    "        self.flavors = flavors = [\"chocolate\",\"vanilla\",\"Strowberry\"]\n",
    "    def display_flavors(self):\n",
    "        print(f\"The flavors of IceCream are {self.flavors}\")"
   ]
  },
  {
   "cell_type": "code",
   "execution_count": 96,
   "metadata": {},
   "outputs": [],
   "source": [
    "ice = IceCreamStand(\"\")"
   ]
  },
  {
   "cell_type": "code",
   "execution_count": 97,
   "metadata": {},
   "outputs": [
    {
     "name": "stdout",
     "output_type": "stream",
     "text": [
      "The flavors of IceCream are ['chocolate', 'vanilla', 'Strowberry']\n"
     ]
    }
   ],
   "source": [
    "ice.display_flavors()"
   ]
  },
  {
   "cell_type": "code",
   "execution_count": 3,
   "metadata": {},
   "outputs": [
    {
     "data": {
      "text/plain": [
       "0"
      ]
     },
     "execution_count": 3,
     "metadata": {},
     "output_type": "execute_result"
    }
   ],
   "source": [
    "restaurant1.number_served  "
   ]
  },
  {
   "cell_type": "code",
   "execution_count": 4,
   "metadata": {},
   "outputs": [
    {
     "name": "stdout",
     "output_type": "stream",
     "text": [
      "The name of the restaurant is: KFC\n",
      "The type of cooking in the restaurant is: Traditional Arabic dish\n"
     ]
    }
   ],
   "source": [
    "print(f\"The name of the restaurant is: {restaurant1.restaurant_name}\")\n",
    "print(f\"The type of cooking in the restaurant is: {restaurant1.cuisine_type}\")"
   ]
  },
  {
   "cell_type": "code",
   "execution_count": 5,
   "metadata": {},
   "outputs": [
    {
     "name": "stdout",
     "output_type": "stream",
     "text": [
      "The KFC restaurant is now open\n"
     ]
    }
   ],
   "source": [
    "restaurant1.open_restaurant()"
   ]
  },
  {
   "cell_type": "code",
   "execution_count": 6,
   "metadata": {},
   "outputs": [
    {
     "name": "stdout",
     "output_type": "stream",
     "text": [
      "The restaurant name is: KFC\n",
      "The cuisine type is: Traditional Arabic dish\n"
     ]
    }
   ],
   "source": [
    "restaurant1.describe_restaurant()"
   ]
  },
  {
   "cell_type": "code",
   "execution_count": 7,
   "metadata": {},
   "outputs": [],
   "source": [
    "restaurant2 = Restaurant(\"شيخ البلد\",\"أكل شعبي\")\n",
    "restaurant3 = Restaurant(\"MacDonals\",\"Engish dish\")\n",
    "restaurant4 = Restaurant(\"الشبراوي\",\"فول و طعمية مصري\")"
   ]
  },
  {
   "cell_type": "code",
   "execution_count": 8,
   "metadata": {},
   "outputs": [
    {
     "name": "stdout",
     "output_type": "stream",
     "text": [
      "The restaurant name is: شيخ البلد\n",
      "The cuisine type is: أكل شعبي\n",
      "The restaurant name is: MacDonals\n",
      "The cuisine type is: Engish dish\n",
      "The restaurant name is: الشبراوي\n",
      "The cuisine type is: فول و طعمية مصري\n"
     ]
    }
   ],
   "source": [
    "restaurant2.describe_restaurant()\n",
    "restaurant3.describe_restaurant()\n",
    "restaurant4.describe_restaurant()"
   ]
  },
  {
   "cell_type": "code",
   "execution_count": 9,
   "metadata": {},
   "outputs": [],
   "source": []
  },
  {
   "cell_type": "code",
   "execution_count": 129,
   "metadata": {},
   "outputs": [],
   "source": []
  },
  {
   "cell_type": "code",
   "execution_count": 132,
   "metadata": {},
   "outputs": [
    {
     "name": "stdout",
     "output_type": "stream",
     "text": [
      "The adminstrator can access these: ['can add post', 'can delete post', 'can ban user', 'can add user']\n"
     ]
    }
   ],
   "source": [
    "admin = Admin()\n",
    "admin.privileges.show_privileges()"
   ]
  },
  {
   "cell_type": "code",
   "execution_count": 10,
   "metadata": {},
   "outputs": [],
   "source": [
    "9user1 = User(\"Ahmed\",\"Saaed\",\"7 مساكن صف الضباط منشية التحرير\",\"01115227122\")\n",
    "user2 = User(\"Michale\",\"Sullivan\",\"unknown\",\"+12001225495\")\n",
    "user3 = User(\"Bridget\",\"Evants\",\"England\",\"01245485454\")"
   ]
  },
  {
   "cell_type": "code",
   "execution_count": 11,
   "metadata": {},
   "outputs": [
    {
     "data": {
      "text/plain": [
       "0"
      ]
     },
     "execution_count": 11,
     "metadata": {},
     "output_type": "execute_result"
    }
   ],
   "source": [
    "user1.login_attempt"
   ]
  },
  {
   "cell_type": "code",
   "execution_count": 12,
   "metadata": {},
   "outputs": [
    {
     "name": "stdout",
     "output_type": "stream",
     "text": [
      "Welcome Mr Ahmed Saaed !\n",
      "The user name called 'Ahmed Saaed' and her/his phone number is '01115227122',\n",
      "last thins about user is her/his address in '7 مساكن صف الضباط منشية التحرير'\n",
      "\n",
      "Welcome Mr Michale Sullivan !\n",
      "The user name called 'Michale Sullivan' and her/his phone number is '+12001225495',\n",
      "last thins about user is her/his address in 'unknown'\n",
      "\n",
      "Welcome Mr Bridget Evants !\n",
      "The user name called 'Bridget Evants' and her/his phone number is '01245485454',\n",
      "last thins about user is her/his address in 'England'\n",
      "\n"
     ]
    }
   ],
   "source": [
    "user1.greet_user()\n",
    "user1.describe_user()\n",
    "user2.greet_user()\n",
    "user2.describe_user()\n",
    "user3.greet_user()\n",
    "user3.describe_user()"
   ]
  },
  {
   "cell_type": "code",
   "execution_count": 206,
   "metadata": {},
   "outputs": [],
   "source": [
    "class Car:\n",
    "    def __init__(self,make,model,year):\n",
    "        self.make = make\n",
    "        self.model = model\n",
    "        self.year = year\n",
    "        self.odometer_reading= 0\n",
    "    def get_descriptive_name(self):\n",
    "        long_name = f\"{self.year} {self.make} {self.model}\"\n",
    "        return long_name.title()\n",
    "    \n",
    "    def update_odometer(seld,mileage):\n",
    "        if mileage >= self.odometer_reading:\n",
    "            self.odometer_reading = mileage\n",
    "        else:\n",
    "            print(\"You can`t roll back an odometer\")\n",
    "    def increment_odometer(self,miles):\n",
    "        self.odometer_reading += miles\n",
    "    def gas_check(self):\n",
    "        print(\"This car will required 92 gas in it \")\n",
    "        \n",
    "class ElectriCar(Car):\n",
    "    def __init__(self, make, model, year):\n",
    "        super().__init__(make,model,year)\n",
    "        self.battery= Battery()\n",
    "    def gas_check(self):\n",
    "        print(\"This type of car does`n support any type of gas !\")\n",
    "        print(\"\\n overrided method!\")\n",
    "class Battery:\n",
    "    def __init__(self, battery_size = 75):\n",
    "        self.battery_size = battery_size\n",
    "    def describe_battery(self):\n",
    "        print(f\"This car has {self.battery_size}-wkh battery\")\n",
    "        \n",
    "    def get_range(self):\n",
    "        if self.battery_size == 75:\n",
    "            range = 260\n",
    "        elif self.battery_size == 100:\n",
    "            range = 315\n",
    "    def upgrade_battery(self):\n",
    "        if self.battery_size == 75:\n",
    "            self.battery_size = 100\n",
    "        else:\n",
    "            get_range()"
   ]
  },
  {
   "cell_type": "code",
   "execution_count": 207,
   "metadata": {},
   "outputs": [
    {
     "name": "stdout",
     "output_type": "stream",
     "text": [
      "2019 Tesla Model S\n",
      "This car has 75-wkh battery\n"
     ]
    }
   ],
   "source": [
    "my_tesla = ElectriCar('tesla','model s','2019')\n",
    "print(my_tesla.get_descriptive_name())\n",
    "my_tesla.battery.describe_battery()\n",
    "my_tesla.battery.upgrade_battery()"
   ]
  },
  {
   "cell_type": "code",
   "execution_count": 208,
   "metadata": {},
   "outputs": [
    {
     "name": "stdout",
     "output_type": "stream",
     "text": [
      "This type of car does`n support any type of gas !\n",
      "\n",
      " overrided method!\n"
     ]
    }
   ],
   "source": [
    "my_tesla.gas_check()"
   ]
  },
  {
   "cell_type": "code",
   "execution_count": 209,
   "metadata": {},
   "outputs": [
    {
     "name": "stdout",
     "output_type": "stream",
     "text": [
      "This car will required 92 gas in it \n"
     ]
    }
   ],
   "source": [
    "car = Car(\"BMW\",\"a70\",\"2021\")\n",
    "car.gas_check()"
   ]
  },
  {
   "cell_type": "code",
   "execution_count": null,
   "metadata": {},
   "outputs": [],
   "source": []
  }
 ],
 "metadata": {
  "kernelspec": {
   "display_name": "Python 3",
   "language": "python",
   "name": "python3"
  },
  "language_info": {
   "codemirror_mode": {
    "name": "ipython",
    "version": 3
   },
   "file_extension": ".py",
   "mimetype": "text/x-python",
   "name": "python",
   "nbconvert_exporter": "python",
   "pygments_lexer": "ipython3",
   "version": "3.7.6"
  }
 },
 "nbformat": 4,
 "nbformat_minor": 4
}
